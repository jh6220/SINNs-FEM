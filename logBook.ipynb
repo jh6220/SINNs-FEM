{
 "cells": [
  {
   "cell_type": "markdown",
   "metadata": {},
   "source": [
    "## 28/2/2024\n",
    "\n",
    "Solution data structure\n",
    "- Solution\n",
    "    - Nodes solution\n",
    "    - Solution values on solution nodes\n",
    "    - Elements of solution nodes\n",
    "    - *Interpolation function for the solution for the encoder: interpSE(x,y)\n",
    "    - *Interpolation function for the solution for the decoder: interpSD(x,y)\n",
    "- Boundary Lines\n",
    "    - List of vectors of cloed boundary curves nodes indexes: [idxs1[], idxs2[], idxs3[], …] (the first curve is the outer loop, the rest are inner holes) (first element is also the last)\n",
    "    - List of matrices of nodes along the boundary curves: [nodesB1[], nodesB1[], nodesB1[], ...]\n",
    "    - List of vectors of distance along the line: [distances1[], distances2[], distances3[], ...]\n",
    "    - List of curve lengths per line: [L1, L2, L3, ...]\n",
    "    - List of vectors of normals along the line [normals1[], normals2[], normals3[], ...]\n",
    "    - *List of interpolation functions for the solution along the boundary lines: [interpBS1(distance), interpBS2(distance), interpBS3(length), …]\n",
    "    - *List of interpolation functions for the normals along the boundary lines: [interpBN1(length), interpBN2(length), interpBN3(distance), …]\n",
    "    - *List of interpolation functions for the x,y coordinates along the boundary lines: [interpBC1(distance), interpBC2(distance), interpBC3(distance), …]\n",
    "    - *Interpolation function for isInsideTheDomian: interpD(x,y)\n",
    "- Boundary Corners\n",
    "    - List of corner nodes indexes: [idxNode1, idxNode2, idNode3, …]\n",
    "    - List of the boundary curves that include the corner: [idxCurve1, idxCurve2, idxCurve3, …]\n",
    "    - List of corner indexes within the curve: [idxCornerCurve1, idxCornerCurve1, idxCornerCurve1, ...]\n",
    "    - List of distances where the corners are on their respective curves [distance1, distance2, distance3, ...]\n",
    "\n",
    "\n",
    "\\* Not part of saved dataset but computed when loading the dataset\n",
    "\n",
    "The boundary line direction convention\n",
    "- The domain is always to the right of the line if looking in the direction of the line\n",
    "    - outer boundary edge is counter-clockwise\n",
    "    - inner boundary edge is clockwise\n",
    "- The boundary normals always point outwards from the domain"
   ]
  },
  {
   "cell_type": "markdown",
   "metadata": {},
   "source": [
    "## 29/2/2024\n",
    "\n",
    "For the boundary interpolation Pchip interpolator used as it does not introduce oscilations around discontinuities and is a high-order (cubic) method"
   ]
  }
 ],
 "metadata": {
  "language_info": {
   "name": "python"
  }
 },
 "nbformat": 4,
 "nbformat_minor": 2
}
